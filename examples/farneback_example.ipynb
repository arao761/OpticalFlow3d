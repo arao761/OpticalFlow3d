{
 "cells": [
  {
   "cell_type": "code",
   "execution_count": null,
   "id": "a3554ddb-de53-4ac6-a102-01c526f3fa24",
   "metadata": {},
   "outputs": [],
   "source": [
    "import opticalflow3D\n",
    "import torch\n",
    "\n",
    "# Set device preference\n",
    "device = 'cuda' if torch.cuda.is_available() else 'cpu'\n",
    "print(f\"Using device: {device}\")"
   ]
  },
  {
   "cell_type": "markdown",
   "id": "438f607e-a310-48b5-8dd0-2ddec2db7def",
   "metadata": {},
   "source": [
    "# Farneback two frame motion estimation"
   ]
  },
  {
   "cell_type": "code",
   "execution_count": null,
   "id": "7ab782f1-6053-4d91-8ba7-3220d3332f44",
   "metadata": {},
   "outputs": [],
   "source": [
    "farneback = opticalflow3D.Farneback3D(iters=5,\n",
    "                                      num_levels=5,\n",
    "                                      scale=0.5,\n",
    "                                      spatial_size=7,\n",
    "                                      presmoothing=7,\n",
    "                                      filter_type=\"box\",\n",
    "                                      filter_size=21,\n",
    "                                      device=device,\n",
    "                                     )"
   ]
  },
  {
   "cell_type": "code",
   "execution_count": 3,
   "id": "dc009976-75b1-4b32-a947-afb1e65ae086",
   "metadata": {},
   "outputs": [],
   "source": [
    "# Load the images\n",
    "image1 = opticalflow3D.helpers.load_image(r\"E:\\data\\3DTFM\\test_set\\image1.tif\")\n",
    "image2 = opticalflow3D.helpers.load_image(r\"E:\\data\\3DTFM\\test_set\\image2.tif\")"
   ]
  },
  {
   "cell_type": "code",
   "execution_count": 4,
   "id": "40767a8b-ac43-42ab-84b6-22ce13210fcf",
   "metadata": {},
   "outputs": [],
   "source": [
    "# Realign the image manually to remove any drift during the acquisition of the image\n",
    "image1 = opticalflow3D.helpers.crop_image(image1, z_reverse=True, z_start=2, y_start=1, x_start=1)\n",
    "image2 = opticalflow3D.helpers.crop_image(image2, z_reverse=True, z_end=-2, y_end=-1, x_end=-1)"
   ]
  },
  {
   "cell_type": "code",
   "execution_count": null,
   "id": "a3a42ea3-2c56-4014-ad29-7a87e210bf39",
   "metadata": {},
   "outputs": [
    {
     "name": "stdout",
     "output_type": "stream",
     "text": [
      "Running 3D Farneback optical flow with the following parameters:\n",
      "Iters: 5 | Levels: 5 | Scale: 0.5 | Kernel: 7 | Filter: box-21 | Presmoothing: 7\n"
     ]
    },
    {
     "name": "stderr",
     "output_type": "stream",
     "text": [
      "Item: 1/4: 100%|█████████████████████████████████████████████████████████████████████████| 2/2 [00:27<00:00, 13.98s/it]\n",
      "Item: 2/4: 100%|█████████████████████████████████████████████████████████████████████████| 2/2 [00:10<00:00,  5.25s/it]\n",
      "Item: 3/4: 100%|█████████████████████████████████████████████████████████████████████████| 2/2 [00:10<00:00,  5.43s/it]\n",
      "Item: 4/4: 100%|█████████████████████████████████████████████████████████████████████████| 2/2 [00:10<00:00,  5.07s/it]\n"
     ]
    }
   ],
   "source": [
    "output_vz, output_vy, output_vx, output_confidence = farneback.calculate_flow(image1, image2, \n",
    "                                                                              start_point=(0, 300, 300),\n",
    "                                                                              total_vol=(512, 512, 512),\n",
    "                                                                              sub_volume=(350, 350, 350),\n",
    "                                                                              overlap=(64, 64, 64),\n",
    "                                                                             )"
   ]
  },
  {
   "cell_type": "code",
   "execution_count": 6,
   "id": "223a97ef-77d3-4941-8e7b-8566c983b44a",
   "metadata": {},
   "outputs": [],
   "source": [
    "opticalflow3D.helpers.save_displacements(\"vectors.npz\", output_vz, output_vy, output_vx)\n",
    "opticalflow3D.helpers.save_confidence(\"confidence.npz\", output_confidence)"
   ]
  },
  {
   "cell_type": "markdown",
   "id": "4fbbfaac-7b66-44ea-a781-d00504e27de8",
   "metadata": {},
   "source": [
    "## Perform qualitative/quatitative assessment of vectors"
   ]
  },
  {
   "cell_type": "code",
   "execution_count": null,
   "id": "8f906185-7ac9-4a18-aff7-50f79590c523",
   "metadata": {},
   "outputs": [],
   "source": [
    "import numpy as np\n",
    "import skimage.io\n",
    "import skimage.metrics"
   ]
  },
  {
   "cell_type": "code",
   "execution_count": null,
   "id": "1f722893-610c-466a-b80e-01ebeb199f25",
   "metadata": {},
   "outputs": [],
   "source": [
    "start_point=(0, 300, 300)\n",
    "total_vol=(512, 512, 512)\n",
    "cropped_image1 = image1[start_point[0]:start_point[0]+total_vol[0],\n",
    "                        start_point[1]:start_point[1]+total_vol[1],\n",
    "                        start_point[2]:start_point[2]+total_vol[2]]\n",
    "\n",
    "cropped_image2 = image2[start_point[0]:start_point[0]+total_vol[0],\n",
    "                        start_point[1]:start_point[1]+total_vol[1],\n",
    "                        start_point[2]:start_point[2]+total_vol[2]]    "
   ]
  },
  {
   "cell_type": "code",
   "execution_count": null,
   "id": "e0fba0dd-436b-4779-93c5-8e5e828b683b",
   "metadata": {},
   "outputs": [],
   "source": [
    "inverse_image = opticalflow3D.helpers.generate_inverse_image(cropped_image1, output_vx, output_vy, output_vz)"
   ]
  },
  {
   "cell_type": "code",
   "execution_count": null,
   "id": "c4be24ac-959a-4853-9089-0e0168ef2411",
   "metadata": {},
   "outputs": [],
   "source": [
    "output_image = np.moveaxis(np.stack((inverse_image, cropped_image2)), 0, 1)\n",
    "skimage.io.imsave(f\"comparison_image.tif\", output_image, imagej=True)"
   ]
  },
  {
   "cell_type": "code",
   "execution_count": null,
   "id": "17accabc-858e-4557-97e4-cfc8773310a4",
   "metadata": {},
   "outputs": [],
   "source": [
    "nrmse = skimage.metrics.normalized_root_mse(cropped_image2, inverse_image)\n",
    "print(f\"Normalized root mse: {nrmse}\")"
   ]
  },
  {
   "cell_type": "code",
   "execution_count": null,
   "id": "929f1eae",
   "metadata": {},
   "outputs": [],
   "source": [
    "output_image = np.moveaxis(np.stack((inverse_image, cropped_image2)), 0, 1)\n",
    "skimage.io.imsave(f\"comparison_image.tif\", output_image, imagej=True)"
   ]
  },
  {
   "cell_type": "code",
   "execution_count": null,
   "id": "395314fc-ddd2-44f2-98ed-4995073e055b",
   "metadata": {},
   "outputs": [],
   "source": []
  }
 ],
 "metadata": {
  "kernelspec": {
   "display_name": "Python 3 (ipykernel)",
   "language": "python",
   "name": "python3"
  },
  "language_info": {
   "codemirror_mode": {
    "name": "ipython",
    "version": 3
   },
   "file_extension": ".py",
   "mimetype": "text/x-python",
   "name": "python",
   "nbconvert_exporter": "python",
   "pygments_lexer": "ipython3",
   "version": "3.8.13"
  }
 },
 "nbformat": 4,
 "nbformat_minor": 5
}
