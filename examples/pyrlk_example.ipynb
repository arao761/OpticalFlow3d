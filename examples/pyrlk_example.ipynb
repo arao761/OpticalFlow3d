{
 "cells": [
  {
   "cell_type": "code",
   "execution_count": null,
   "id": "a3554ddb-de53-4ac6-a102-01c526f3fa24",
   "metadata": {},
   "outputs": [],
   "source": [
    "import opticalflow3D\n",
    "import torch\n",
    "\n",
    "# Set device preference\n",
    "device = 'cuda' if torch.cuda.is_available() else 'cpu'\n",
    "print(f\"Using device: {device}\")"
   ]
  },
  {
   "cell_type": "markdown",
   "id": "41f81848-6ac0-41b5-a2f6-bf58250b3ea7",
   "metadata": {},
   "source": [
    "# 3D Pyramidal Lucas Kanade"
   ]
  },
  {
   "cell_type": "code",
   "execution_count": null,
   "id": "7ab782f1-6053-4d91-8ba7-3220d3332f44",
   "metadata": {},
   "outputs": [],
   "source": [
    "pyrlk3d = opticalflow3D.PyrLK3D(iters=15,\n",
    "                                num_levels=5,\n",
    "                                scale=0.5,\n",
    "                                tau=0.1, alpha=0.1,\n",
    "                                filter_type=\"gaussian\",\n",
    "                                filter_size=31,\n",
    "                                presmoothing=1,\n",
    "                                device=device,\n",
    "                               )"
   ]
  },
  {
   "cell_type": "code",
   "execution_count": 3,
   "id": "dc009976-75b1-4b32-a947-afb1e65ae086",
   "metadata": {},
   "outputs": [],
   "source": [
    "# Load the images\n",
    "image1 = opticalflow3D.helpers.load_image(r\"E:\\data\\3DTFM\\test_set\\image1.tif\")\n",
    "image2 = opticalflow3D.helpers.load_image(r\"E:\\data\\3DTFM\\test_set\\image2.tif\")"
   ]
  },
  {
   "cell_type": "code",
   "execution_count": 4,
   "id": "40767a8b-ac43-42ab-84b6-22ce13210fcf",
   "metadata": {},
   "outputs": [],
   "source": [
    "# Realign the image manually to remove any drift during the acquisition of the image\n",
    "image1 = opticalflow3D.helpers.crop_image(image1, z_reverse=True, z_start=2, y_start=1, x_start=1)\n",
    "image2 = opticalflow3D.helpers.crop_image(image2, z_reverse=True, z_end=-2, y_end=-1, x_end=-1)"
   ]
  },
  {
   "cell_type": "code",
   "execution_count": null,
   "id": "a3a42ea3-2c56-4014-ad29-7a87e210bf39",
   "metadata": {},
   "outputs": [
    {
     "name": "stdout",
     "output_type": "stream",
     "text": [
      "Running 3D pyramidal Lucas Kanade optical flow with the following parameters:\n",
      "Iters: 15 | Levels: 5 | Scale: 0.5 | Tau: 0.1 | Alpha: 0.1 | Filter: gaussian-31 | Presmoothing: 1\n"
     ]
    },
    {
     "name": "stderr",
     "output_type": "stream",
     "text": [
      "Item: 1/4: 100%|█████████████████████████████████████████████████████████████████████████| 2/2 [00:20<00:00, 10.17s/it]\n",
      "Item: 2/4: 100%|█████████████████████████████████████████████████████████████████████████| 2/2 [00:12<00:00,  6.21s/it]\n",
      "Item: 3/4: 100%|█████████████████████████████████████████████████████████████████████████| 2/2 [00:12<00:00,  6.34s/it]\n",
      "Item: 4/4: 100%|█████████████████████████████████████████████████████████████████████████| 2/2 [00:11<00:00,  5.64s/it]\n"
     ]
    }
   ],
   "source": [
    "output_vz, output_vy, output_vx = pyrlk3d.calculate_flow(image1, image2,\n",
    "                                                         start_point=(0, 300, 300),\n",
    "                                                         total_vol=(512, 512, 512),\n",
    "                                                         sub_volume=(364, 364, 364),\n",
    "                                                         overlap=(64, 64, 64),\n",
    "                                                        )"
   ]
  },
  {
   "cell_type": "code",
   "execution_count": 6,
   "id": "223a97ef-77d3-4941-8e7b-8566c983b44a",
   "metadata": {},
   "outputs": [],
   "source": [
    "opticalflow3D.helpers.save_displacements(\"vectors.npz\", output_vz, output_vy, output_vx)"
   ]
  },
  {
   "cell_type": "markdown",
   "id": "fcb433a4-85b5-4f1c-b3b9-98caca58f56e",
   "metadata": {
    "tags": []
   },
   "source": [
    "## Perform qualitative/quatitative assessment of vectors"
   ]
  },
  {
   "cell_type": "code",
   "execution_count": null,
   "id": "8f906185-7ac9-4a18-aff7-50f79590c523",
   "metadata": {},
   "outputs": [],
   "source": [
    "import numpy as np\n",
    "import skimage.io\n",
    "import skimage.metrics"
   ]
  },
  {
   "cell_type": "code",
   "execution_count": null,
   "id": "1f722893-610c-466a-b80e-01ebeb199f25",
   "metadata": {},
   "outputs": [],
   "source": [
    "start_point=(0, 300, 300)\n",
    "total_vol=(512, 512, 512)\n",
    "cropped_image1 = image1[start_point[0]:start_point[0]+total_vol[0],\n",
    "                        start_point[1]:start_point[1]+total_vol[1],\n",
    "                        start_point[2]:start_point[2]+total_vol[2]]\n",
    "\n",
    "cropped_image2 = image2[start_point[0]:start_point[0]+total_vol[0],\n",
    "                        start_point[1]:start_point[1]+total_vol[1],\n",
    "                        start_point[2]:start_point[2]+total_vol[2]]   "
   ]
  },
  {
   "cell_type": "code",
   "execution_count": null,
   "id": "e0fba0dd-436b-4779-93c5-8e5e828b683b",
   "metadata": {},
   "outputs": [],
   "source": [
    "inverse_image = opticalflow3D.helpers.generate_inverse_image(cropped_image1, output_vx, output_vy, output_vz)"
   ]
  },
  {
   "cell_type": "code",
   "execution_count": null,
   "id": "c4be24ac-959a-4853-9089-0e0168ef2411",
   "metadata": {},
   "outputs": [],
   "source": [
    "output_image = np.moveaxis(np.stack((inverse_image, cropped_image2)), 0, 1)\n",
    "skimage.io.imsave(f\"comparison_image.tif\", output_image, imagej=True)"
   ]
  },
  {
   "cell_type": "code",
   "execution_count": null,
   "id": "17accabc-858e-4557-97e4-cfc8773310a4",
   "metadata": {},
   "outputs": [],
   "source": [
    "nrmse = skimage.metrics.normalized_root_mse(cropped_image2, inverse_image)\n",
    "print(f\"Normalized root mse: {nrmse}\")"
   ]
  },
  {
   "cell_type": "code",
   "execution_count": null,
   "id": "edf5de5b-f091-4c7f-99c7-9d3cca61c247",
   "metadata": {},
   "outputs": [],
   "source": []
  }
 ],
 "metadata": {
  "kernelspec": {
   "display_name": "Python 3 (ipykernel)",
   "language": "python",
   "name": "python3"
  },
  "language_info": {
   "codemirror_mode": {
    "name": "ipython",
    "version": 3
   },
   "file_extension": ".py",
   "mimetype": "text/x-python",
   "name": "python",
   "nbconvert_exporter": "python",
   "pygments_lexer": "ipython3",
   "version": "3.8.13"
  }
 },
 "nbformat": 4,
 "nbformat_minor": 5
}
